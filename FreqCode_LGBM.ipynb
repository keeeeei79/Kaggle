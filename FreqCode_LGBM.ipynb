{
 "cells": [
  {
   "cell_type": "code",
   "execution_count": 10,
   "metadata": {
    "collapsed": true
   },
   "outputs": [],
   "source": [
    "import pandas as pd\n",
    "import numpy as np"
   ]
  },
  {
   "cell_type": "code",
   "execution_count": 11,
   "metadata": {
    "collapsed": true
   },
   "outputs": [],
   "source": [
    "import matplotlib.pyplot as plt\n",
    "%matplotlib inline"
   ]
  },
  {
   "cell_type": "code",
   "execution_count": 12,
   "metadata": {
    "collapsed": true
   },
   "outputs": [],
   "source": [
    "from sklearn.model_selection import StratifiedKFold, ParameterGrid\n",
    "import lightgbm as lgb\n",
    "from sklearn.metrics import roc_auc_score\n",
    "from logging import StreamHandler, DEBUG, Formatter, FileHandler, getLogger\n",
    "from tqdm import tqdm"
   ]
  },
  {
   "cell_type": "markdown",
   "metadata": {},
   "source": [
    "- pathの指定"
   ]
  },
  {
   "cell_type": "code",
   "execution_count": 13,
   "metadata": {
    "collapsed": true
   },
   "outputs": [],
   "source": [
    "inpath = '../input/'\n",
    "logpath = '../log/'"
   ]
  },
  {
   "cell_type": "markdown",
   "metadata": {},
   "source": [
    "- 読み込み"
   ]
  },
  {
   "cell_type": "code",
   "execution_count": 14,
   "metadata": {
    "collapsed": true
   },
   "outputs": [],
   "source": [
    "train = pd.read_csv(inpath + 'train_small.csv')"
   ]
  },
  {
   "cell_type": "code",
   "execution_count": 15,
   "metadata": {
    "collapsed": true
   },
   "outputs": [],
   "source": [
    "# train.to_feather()"
   ]
  },
  {
   "cell_type": "markdown",
   "metadata": {},
   "source": [
    "- make_features"
   ]
  },
  {
   "cell_type": "code",
   "execution_count": 16,
   "metadata": {
    "collapsed": true
   },
   "outputs": [],
   "source": [
    "train = train[['app', 'device', 'os', 'channel', 'is_attributed']]"
   ]
  },
  {
   "cell_type": "code",
   "execution_count": 17,
   "metadata": {
    "collapsed": true
   },
   "outputs": [],
   "source": [
    "x_train = train[['app', 'device', 'os', 'channel']]\n",
    "y_train = train[ 'is_attributed'].values.astype(np.float32)"
   ]
  },
  {
   "cell_type": "markdown",
   "metadata": {},
   "source": [
    "- learning"
   ]
  },
  {
   "cell_type": "code",
   "execution_count": 18,
   "metadata": {},
   "outputs": [
    {
     "name": "stderr",
     "output_type": "stream",
     "text": [
      "2018-05-27 13:37:39,870 __main__ 14 [INFO][<module>] start \n"
     ]
    }
   ],
   "source": [
    "logger = getLogger(__name__)\n",
    "log_fmt = Formatter('%(asctime)s %(name)s %(lineno)d [%(levelname)s][%(funcName)s] %(message)s ')\n",
    "handler = StreamHandler()\n",
    "handler.setLevel('INFO')\n",
    "handler.setFormatter(log_fmt)\n",
    "logger.addHandler(handler)\n",
    "\n",
    "handler = FileHandler(logpath + 'train.py.log', 'a')\n",
    "handler.setLevel(DEBUG)\n",
    "handler.setFormatter(log_fmt)\n",
    "logger.setLevel(DEBUG)\n",
    "logger.addHandler(handler)\n",
    "\n",
    "logger.info('start')"
   ]
  },
  {
   "cell_type": "markdown",
   "metadata": {},
   "source": [
    "- CV設定\n",
    "- CAT_FEATを指定"
   ]
  },
  {
   "cell_type": "code",
   "execution_count": 19,
   "metadata": {
    "collapsed": true
   },
   "outputs": [],
   "source": [
    "cv = StratifiedKFold(n_splits=3, shuffle=True, random_state=871)\n",
    "all_params = {'min_child_weight': [25],\n",
    "                  'subsample': [0.7],\n",
    "                  'subsample_freq': [1],\n",
    "                  'seed': [114],\n",
    "                  'colsample_bytree': [0.6],\n",
    "                  'learning_rate': [0.1],\n",
    "                  'max_depth': [-1],\n",
    "                  'min_split_gain': [0.001],\n",
    "                  'reg_alpha': [0.0001],\n",
    "                  'max_bin': [2047],\n",
    "                  'num_leaves': [127],\n",
    "                  'objective': ['binary'],\n",
    "                  'metric': [ 'auc'],\n",
    "                  'scale_pos_weight': [1],\n",
    "                  'verbose': [-1],\n",
    "                 }\n",
    "CAT_FEAT = ['app', 'os']\n",
    "FEAT_NAME = ['app', 'device', 'os', 'channel']"
   ]
  },
  {
   "cell_type": "markdown",
   "metadata": {},
   "source": [
    "- GridSearch\n",
    "- CVしてAUCの平均を求める\n",
    "- STACKING　and FEEDBACK用のデータ出力"
   ]
  },
  {
   "cell_type": "code",
   "execution_count": 22,
   "metadata": {
    "scrolled": false
   },
   "outputs": [
    {
     "name": "stderr",
     "output_type": "stream",
     "text": [
      "  0%|          | 0/1 [00:00<?, ?it/s]2018-05-27 13:38:02,505 __main__ 4 [INFO][<module>] params: {'seed': 114, 'max_depth': -1, 'reg_alpha': 0.0001, 'objective': 'binary', 'min_split_gain': 0.001, 'max_bin': 2047, 'learning_rate': 0.1, 'verbose': -1, 'subsample': 0.7, 'num_leaves': 127, 'metric': 'auc', 'colsample_bytree': 0.6, 'min_child_weight': 25, 'scale_pos_weight': 1, 'subsample_freq': 1} \n",
      "/Users/keeeeei/.pyenv/versions/anaconda3-2.5.0/lib/python3.5/site-packages/lightgbm/basic.py:1036: UserWarning: Using categorical_feature in Dataset.\n",
      "  warnings.warn('Using categorical_feature in Dataset.')\n",
      "/Users/keeeeei/.pyenv/versions/anaconda3-2.5.0/lib/python3.5/site-packages/lightgbm/basic.py:681: UserWarning: categorical_feature in param dict is overrided.\n",
      "  warnings.warn('categorical_feature in param dict is overrided.')\n"
     ]
    },
    {
     "name": "stdout",
     "output_type": "stream",
     "text": [
      "Training until validation scores don't improve for 30 rounds.\n",
      "[10]\tvalid_0's auc: 0.889676\n",
      "[20]\tvalid_0's auc: 0.825673\n",
      "[30]\tvalid_0's auc: 0.820731\n",
      "Early stopping, best iteration is:\n",
      "[4]\tvalid_0's auc: 0.895332\n",
      "Training until validation scores don't improve for 30 rounds.\n",
      "[10]\tvalid_0's auc: 0.946858\n",
      "[20]\tvalid_0's auc: 0.921415\n",
      "[30]\tvalid_0's auc: 0.894224\n",
      "[40]\tvalid_0's auc: 0.895501\n",
      "Early stopping, best iteration is:\n",
      "[10]\tvalid_0's auc: 0.946858\n",
      "Training until validation scores don't improve for 30 rounds.\n",
      "[10]\tvalid_0's auc: 0.635725\n",
      "[20]\tvalid_0's auc: 0.673706\n",
      "[30]\tvalid_0's auc: 0.781826\n",
      "[40]\tvalid_0's auc: 0.797164\n",
      "[50]\tvalid_0's auc: 0.802406\n",
      "[60]\tvalid_0's auc: 0.795532\n",
      "[70]\tvalid_0's auc: 0.801762\n",
      "[80]\tvalid_0's auc: 0.801762\n"
     ]
    },
    {
     "name": "stderr",
     "output_type": "stream",
     "text": [
      "2018-05-27 13:38:02,986 __main__ 42 [INFO][<module>] AUC 0.8813172884750317 \n",
      "2018-05-27 13:38:02,988 __main__ 46 [INFO][<module>] current max score: 0.8813172884750317, params: {'seed': 114, 'max_depth': -1, 'categorical_column': [0, 2], 'n_estimators': 26, 'reg_alpha': 0.0001, 'objective': 'binary', 'min_split_gain': 0.001, 'max_bin': 2047, 'learning_rate': 0.1, 'verbose': -1, 'subsample': 0.7, 'num_leaves': 127, 'metric': 'auc', 'colsample_bytree': 0.6, 'min_child_weight': 25, 'scale_pos_weight': 1, 'subsample_freq': 1} \n",
      "100%|██████████| 1/1 [00:00<00:00,  1.69it/s]\n",
      "2018-05-27 13:38:03,099 __main__ 51 [INFO][<module>] max params: {'seed': 114, 'max_depth': -1, 'categorical_column': [0, 2], 'n_estimators': 26, 'reg_alpha': 0.0001, 'objective': 'binary', 'min_split_gain': 0.001, 'max_bin': 2047, 'learning_rate': 0.1, 'verbose': -1, 'subsample': 0.7, 'num_leaves': 127, 'metric': 'auc', 'colsample_bytree': 0.6, 'min_child_weight': 25, 'scale_pos_weight': 1, 'subsample_freq': 1} \n",
      "2018-05-27 13:38:03,102 __main__ 52 [INFO][<module>] max AUC: 0.8813172884750317 \n"
     ]
    },
    {
     "name": "stdout",
     "output_type": "stream",
     "text": [
      "[90]\tvalid_0's auc: 0.801762\n",
      "Early stopping, best iteration is:\n",
      "[66]\tvalid_0's auc: 0.80348\n"
     ]
    }
   ],
   "source": [
    "max_score = 0\n",
    "max_params = None\n",
    "for params in tqdm(list(ParameterGrid(all_params))):\n",
    "    logger.info('params: {}'.format(params))\n",
    "    list_auc_score = []\n",
    "    list_best_iterations = []\n",
    "    feedback_dic = {}\n",
    "    for train_idx, valid_idx in cv.split(x_train, y_train):\n",
    "        trn_x = x_train.iloc[train_idx, :]\n",
    "        val_x = x_train.iloc[valid_idx, :]\n",
    "\n",
    "        trn_y = y_train[train_idx]\n",
    "        val_y = y_train[valid_idx]\n",
    "        \n",
    "        train_data = lgb.Dataset(trn_x.values.astype(np.float32), label=trn_y,\n",
    "                                     categorical_feature=CAT_FEAT, feature_name=FEAT_NAME)\n",
    "        valid_data = lgb.Dataset(val_x.values.astype(np.float32), label=val_y,\n",
    "                                    categorical_feature=CAT_FEAT, feature_name=FEAT_NAME)\n",
    "\n",
    "        clf = lgb.train(params,\n",
    "                            train_data,\n",
    "                            10000,  # params['n_estimators'],\n",
    "                            early_stopping_rounds=30,\n",
    "                            valid_sets=[valid_data],\n",
    "                            # feval=cst_metric_xgb,\n",
    "                            # callbacks=[callback],\n",
    "                            verbose_eval=10\n",
    "                            )\n",
    "        \n",
    "        pred = clf.predict(val_x)\n",
    "        sc_auc = roc_auc_score(val_y, pred)\n",
    "        \n",
    "        stack_dic = dict(zip(valid_idx, pred))\n",
    "        feedback_dic.update(stack_dic)\n",
    "\n",
    "        list_auc_score.append(sc_auc)\n",
    "        list_best_iterations.append(clf.best_iteration)\n",
    "        logger.debug('   AUC: {}'.format(sc_auc))\n",
    "\n",
    "    params['n_estimators'] = int(np.mean(list_best_iterations))\n",
    "    sc_auc = np.mean(list_auc_score)\n",
    "    logger.info('AUC {}'.format(sc_auc))\n",
    "    if max_score < sc_auc:\n",
    "        max_score = sc_auc\n",
    "        max_params = params\n",
    "    logger.info('current max score: {}, params: {}'.format(max_score, max_params))\n",
    "    \n",
    "    feedback_df = pd.DataFrame(pd.Series(feedback_dic), columns=['pred']).reset_index()\n",
    "    feedback_df.to_csv('feedback.csv', index=False)\n",
    "\n",
    "logger.info('max params: {}'.format(max_params))\n",
    "logger.info('max AUC: {}'.format(max_score))"
   ]
  },
  {
   "cell_type": "markdown",
   "metadata": {},
   "source": [
    "- refit"
   ]
  },
  {
   "cell_type": "code",
   "execution_count": 23,
   "metadata": {
    "scrolled": true
   },
   "outputs": [
    {
     "name": "stderr",
     "output_type": "stream",
     "text": [
      "/Users/keeeeei/.pyenv/versions/anaconda3-2.5.0/lib/python3.5/site-packages/lightgbm/engine.py:99: UserWarning: Found `n_estimators` in params. Will use it instead of argument\n",
      "  warnings.warn(\"Found `{}` in params. Will use it instead of argument\".format(alias))\n",
      "/Users/keeeeei/.pyenv/versions/anaconda3-2.5.0/lib/python3.5/site-packages/lightgbm/basic.py:1036: UserWarning: Using categorical_feature in Dataset.\n",
      "  warnings.warn('Using categorical_feature in Dataset.')\n",
      "/Users/keeeeei/.pyenv/versions/anaconda3-2.5.0/lib/python3.5/site-packages/lightgbm/basic.py:681: UserWarning: categorical_feature in param dict is overrided.\n",
      "  warnings.warn('categorical_feature in param dict is overrided.')\n",
      "2018-05-27 13:38:10,786 __main__ 8 [INFO][<module>] train end \n"
     ]
    }
   ],
   "source": [
    "train_data = lgb.Dataset(x_train.values.astype(np.float32), label=y_train,\n",
    "                                     categorical_feature=CAT_FEAT, feature_name=FEAT_NAME)\n",
    "\n",
    "clf = lgb.train(max_params,\n",
    "                        train_data,\n",
    "                        max_params['n_estimators'] * 1.2,\n",
    "                            )\n",
    "logger.info('train end')"
   ]
  },
  {
   "cell_type": "markdown",
   "metadata": {},
   "source": [
    "- importance"
   ]
  },
  {
   "cell_type": "code",
   "execution_count": 24,
   "metadata": {},
   "outputs": [
    {
     "data": {
      "text/plain": [
       "array([  0.        ,   0.19016198,   0.        ,  20.7119987 ])"
      ]
     },
     "execution_count": 24,
     "metadata": {},
     "output_type": "execute_result"
    }
   ],
   "source": [
    "clf.feature_importance(importance_type ='split')\n",
    "clf.feature_importance(importance_type ='gain')"
   ]
  },
  {
   "cell_type": "code",
   "execution_count": 25,
   "metadata": {},
   "outputs": [
    {
     "data": {
      "text/plain": [
       "<matplotlib.axes._subplots.AxesSubplot at 0x10ebf16a0>"
      ]
     },
     "execution_count": 25,
     "metadata": {},
     "output_type": "execute_result"
    },
    {
     "data": {
      "image/png": "[encoded data removed]",
      "text/plain": [
       "<matplotlib.figure.Figure at 0x10ead76a0>"
      ]
     },
     "metadata": {},
     "output_type": "display_data"
    },
    {
     "data": {
      "image/png": "[encoded data removed]",
      "text/plain": [
       "<matplotlib.figure.Figure at 0x10ebc9da0>"
      ]
     },
     "metadata": {},
     "output_type": "display_data"
    }
   ],
   "source": [
    "lgb.plot_importance(clf, importance_type='split')\n",
    "lgb.plot_importance(clf, importance_type='gain')"
   ]
  },
  {
   "cell_type": "markdown",
   "metadata": {},
   "source": [
    "- error analysys"
   ]
  },
  {
   "cell_type": "code",
   "execution_count": 26,
   "metadata": {
    "scrolled": true
   },
   "outputs": [
    {
     "data": {
      "text/plain": [
       "array([[<matplotlib.axes._subplots.AxesSubplot object at 0x10eb53c18>]], dtype=object)"
      ]
     },
     "execution_count": 26,
     "metadata": {},
     "output_type": "execute_result"
    },
    {
     "data": {
      "image/png": "[encoded data removed]",
      "text/plain": [
       "<matplotlib.figure.Figure at 0x10ebff198>"
      ]
     },
     "metadata": {},
     "output_type": "display_data"
    }
   ],
   "source": [
    "feedback_df.hist(column='pred')"
   ]
  },
  {
   "cell_type": "markdown",
   "metadata": {},
   "source": [
    "- hard classification"
   ]
  },
  {
   "cell_type": "code",
   "execution_count": 29,
   "metadata": {},
   "outputs": [],
   "source": [
    "data = pd.concat([x_train, feedback_df], axis=1)"
   ]
  },
  {
   "cell_type": "code",
   "execution_count": 31,
   "metadata": {},
   "outputs": [],
   "source": [
    "data['target']  = y_train"
   ]
  },
  {
   "cell_type": "code",
   "execution_count": 34,
   "metadata": {},
   "outputs": [
    {
     "data": {
      "text/html": [
       "<div>\n",
       "<style scoped>\n",
       "    .dataframe tbody tr th:only-of-type {\n",
       "        vertical-align: middle;\n",
       "    }\n",
       "\n",
       "    .dataframe tbody tr th {\n",
       "        vertical-align: top;\n",
       "    }\n",
       "\n",
       "    .dataframe thead th {\n",
       "        text-align: right;\n",
       "    }\n",
       "</style>\n",
       "<table border=\"1\" class=\"dataframe\">\n",
       "  <thead>\n",
       "    <tr style=\"text-align: right;\">\n",
       "      <th></th>\n",
       "      <th>app</th>\n",
       "      <th>device</th>\n",
       "      <th>os</th>\n",
       "      <th>channel</th>\n",
       "      <th>index</th>\n",
       "      <th>pred</th>\n",
       "      <th>target</th>\n",
       "    </tr>\n",
       "  </thead>\n",
       "  <tbody>\n",
       "    <tr>\n",
       "      <th>103</th>\n",
       "      <td>35</td>\n",
       "      <td>1</td>\n",
       "      <td>13</td>\n",
       "      <td>21</td>\n",
       "      <td>103</td>\n",
       "      <td>0.332209</td>\n",
       "      <td>1.0</td>\n",
       "    </tr>\n",
       "    <tr>\n",
       "      <th>1504</th>\n",
       "      <td>9</td>\n",
       "      <td>1</td>\n",
       "      <td>22</td>\n",
       "      <td>215</td>\n",
       "      <td>1504</td>\n",
       "      <td>0.184767</td>\n",
       "      <td>1.0</td>\n",
       "    </tr>\n",
       "    <tr>\n",
       "      <th>1798</th>\n",
       "      <td>35</td>\n",
       "      <td>1</td>\n",
       "      <td>13</td>\n",
       "      <td>21</td>\n",
       "      <td>1798</td>\n",
       "      <td>0.186747</td>\n",
       "      <td>1.0</td>\n",
       "    </tr>\n",
       "    <tr>\n",
       "      <th>2102</th>\n",
       "      <td>35</td>\n",
       "      <td>1</td>\n",
       "      <td>46</td>\n",
       "      <td>274</td>\n",
       "      <td>2102</td>\n",
       "      <td>0.181158</td>\n",
       "      <td>1.0</td>\n",
       "    </tr>\n",
       "    <tr>\n",
       "      <th>3056</th>\n",
       "      <td>35</td>\n",
       "      <td>1</td>\n",
       "      <td>13</td>\n",
       "      <td>274</td>\n",
       "      <td>3056</td>\n",
       "      <td>0.331510</td>\n",
       "      <td>1.0</td>\n",
       "    </tr>\n",
       "    <tr>\n",
       "      <th>3220</th>\n",
       "      <td>19</td>\n",
       "      <td>0</td>\n",
       "      <td>24</td>\n",
       "      <td>210</td>\n",
       "      <td>3220</td>\n",
       "      <td>0.182855</td>\n",
       "      <td>1.0</td>\n",
       "    </tr>\n",
       "    <tr>\n",
       "      <th>3939</th>\n",
       "      <td>72</td>\n",
       "      <td>1</td>\n",
       "      <td>6</td>\n",
       "      <td>101</td>\n",
       "      <td>3939</td>\n",
       "      <td>0.012696</td>\n",
       "      <td>1.0</td>\n",
       "    </tr>\n",
       "    <tr>\n",
       "      <th>5282</th>\n",
       "      <td>29</td>\n",
       "      <td>1</td>\n",
       "      <td>41</td>\n",
       "      <td>213</td>\n",
       "      <td>5282</td>\n",
       "      <td>0.335552</td>\n",
       "      <td>1.0</td>\n",
       "    </tr>\n",
       "    <tr>\n",
       "      <th>5377</th>\n",
       "      <td>35</td>\n",
       "      <td>1</td>\n",
       "      <td>13</td>\n",
       "      <td>21</td>\n",
       "      <td>5377</td>\n",
       "      <td>0.012696</td>\n",
       "      <td>1.0</td>\n",
       "    </tr>\n",
       "    <tr>\n",
       "      <th>5438</th>\n",
       "      <td>19</td>\n",
       "      <td>88</td>\n",
       "      <td>24</td>\n",
       "      <td>213</td>\n",
       "      <td>5438</td>\n",
       "      <td>0.188049</td>\n",
       "      <td>1.0</td>\n",
       "    </tr>\n",
       "    <tr>\n",
       "      <th>6511</th>\n",
       "      <td>128</td>\n",
       "      <td>1</td>\n",
       "      <td>13</td>\n",
       "      <td>243</td>\n",
       "      <td>6511</td>\n",
       "      <td>0.010266</td>\n",
       "      <td>1.0</td>\n",
       "    </tr>\n",
       "    <tr>\n",
       "      <th>6763</th>\n",
       "      <td>29</td>\n",
       "      <td>1</td>\n",
       "      <td>19</td>\n",
       "      <td>213</td>\n",
       "      <td>6763</td>\n",
       "      <td>0.016349</td>\n",
       "      <td>1.0</td>\n",
       "    </tr>\n",
       "    <tr>\n",
       "      <th>7391</th>\n",
       "      <td>19</td>\n",
       "      <td>0</td>\n",
       "      <td>24</td>\n",
       "      <td>213</td>\n",
       "      <td>7391</td>\n",
       "      <td>0.335552</td>\n",
       "      <td>1.0</td>\n",
       "    </tr>\n",
       "    <tr>\n",
       "      <th>7760</th>\n",
       "      <td>19</td>\n",
       "      <td>379</td>\n",
       "      <td>24</td>\n",
       "      <td>213</td>\n",
       "      <td>7760</td>\n",
       "      <td>0.335530</td>\n",
       "      <td>1.0</td>\n",
       "    </tr>\n",
       "    <tr>\n",
       "      <th>7793</th>\n",
       "      <td>8</td>\n",
       "      <td>1</td>\n",
       "      <td>19</td>\n",
       "      <td>140</td>\n",
       "      <td>7793</td>\n",
       "      <td>0.010881</td>\n",
       "      <td>1.0</td>\n",
       "    </tr>\n",
       "    <tr>\n",
       "      <th>7899</th>\n",
       "      <td>27</td>\n",
       "      <td>1</td>\n",
       "      <td>13</td>\n",
       "      <td>122</td>\n",
       "      <td>7899</td>\n",
       "      <td>0.330405</td>\n",
       "      <td>1.0</td>\n",
       "    </tr>\n",
       "    <tr>\n",
       "      <th>7994</th>\n",
       "      <td>2</td>\n",
       "      <td>1</td>\n",
       "      <td>19</td>\n",
       "      <td>213</td>\n",
       "      <td>7994</td>\n",
       "      <td>0.187991</td>\n",
       "      <td>1.0</td>\n",
       "    </tr>\n",
       "    <tr>\n",
       "      <th>8046</th>\n",
       "      <td>45</td>\n",
       "      <td>1</td>\n",
       "      <td>41</td>\n",
       "      <td>213</td>\n",
       "      <td>8046</td>\n",
       "      <td>0.016349</td>\n",
       "      <td>1.0</td>\n",
       "    </tr>\n",
       "    <tr>\n",
       "      <th>8588</th>\n",
       "      <td>8</td>\n",
       "      <td>1</td>\n",
       "      <td>19</td>\n",
       "      <td>145</td>\n",
       "      <td>8588</td>\n",
       "      <td>0.011799</td>\n",
       "      <td>1.0</td>\n",
       "    </tr>\n",
       "    <tr>\n",
       "      <th>8923</th>\n",
       "      <td>8</td>\n",
       "      <td>1</td>\n",
       "      <td>19</td>\n",
       "      <td>145</td>\n",
       "      <td>8923</td>\n",
       "      <td>0.330976</td>\n",
       "      <td>1.0</td>\n",
       "    </tr>\n",
       "    <tr>\n",
       "      <th>8951</th>\n",
       "      <td>10</td>\n",
       "      <td>1</td>\n",
       "      <td>44</td>\n",
       "      <td>101</td>\n",
       "      <td>8951</td>\n",
       "      <td>0.332209</td>\n",
       "      <td>1.0</td>\n",
       "    </tr>\n",
       "    <tr>\n",
       "      <th>9717</th>\n",
       "      <td>35</td>\n",
       "      <td>1</td>\n",
       "      <td>25</td>\n",
       "      <td>274</td>\n",
       "      <td>9717</td>\n",
       "      <td>0.181158</td>\n",
       "      <td>1.0</td>\n",
       "    </tr>\n",
       "    <tr>\n",
       "      <th>9756</th>\n",
       "      <td>35</td>\n",
       "      <td>1</td>\n",
       "      <td>13</td>\n",
       "      <td>21</td>\n",
       "      <td>9756</td>\n",
       "      <td>0.186747</td>\n",
       "      <td>1.0</td>\n",
       "    </tr>\n",
       "  </tbody>\n",
       "</table>\n",
       "</div>"
      ],
      "text/plain": [
       "      app  device  os  channel  index      pred  target\n",
       "103    35       1  13       21    103  0.332209     1.0\n",
       "1504    9       1  22      215   1504  0.184767     1.0\n",
       "1798   35       1  13       21   1798  0.186747     1.0\n",
       "2102   35       1  46      274   2102  0.181158     1.0\n",
       "3056   35       1  13      274   3056  0.331510     1.0\n",
       "3220   19       0  24      210   3220  0.182855     1.0\n",
       "3939   72       1   6      101   3939  0.012696     1.0\n",
       "5282   29       1  41      213   5282  0.335552     1.0\n",
       "5377   35       1  13       21   5377  0.012696     1.0\n",
       "5438   19      88  24      213   5438  0.188049     1.0\n",
       "6511  128       1  13      243   6511  0.010266     1.0\n",
       "6763   29       1  19      213   6763  0.016349     1.0\n",
       "7391   19       0  24      213   7391  0.335552     1.0\n",
       "7760   19     379  24      213   7760  0.335530     1.0\n",
       "7793    8       1  19      140   7793  0.010881     1.0\n",
       "7899   27       1  13      122   7899  0.330405     1.0\n",
       "7994    2       1  19      213   7994  0.187991     1.0\n",
       "8046   45       1  41      213   8046  0.016349     1.0\n",
       "8588    8       1  19      145   8588  0.011799     1.0\n",
       "8923    8       1  19      145   8923  0.330976     1.0\n",
       "8951   10       1  44      101   8951  0.332209     1.0\n",
       "9717   35       1  25      274   9717  0.181158     1.0\n",
       "9756   35       1  13       21   9756  0.186747     1.0"
      ]
     },
     "execution_count": 34,
     "metadata": {},
     "output_type": "execute_result"
    }
   ],
   "source": [
    "data[data.target == 1]"
   ]
  },
  {
   "cell_type": "markdown",
   "metadata": {},
   "source": [
    "# save&load用コード"
   ]
  },
  {
   "cell_type": "markdown",
   "metadata": {},
   "source": [
    "   - ftr"
   ]
  },
  {
   "cell_type": "code",
   "execution_count": null,
   "metadata": {
    "collapsed": true
   },
   "outputs": [],
   "source": [
    "x_train.to_feather\n",
    "pd.read_feather"
   ]
  },
  {
   "cell_type": "markdown",
   "metadata": {},
   "source": [
    "   - lgb data"
   ]
  },
  {
   "cell_type": "code",
   "execution_count": 6,
   "metadata": {},
   "outputs": [],
   "source": [
    "# train_data.save_binary('lgb_train.bin')\n",
    "train_data = lgb.Dataset('lgb_train.bin', feature_name=FEAT_NAME, categorical_feature=CAT_FEAT)"
   ]
  },
  {
   "cell_type": "code",
   "execution_count": 7,
   "metadata": {
    "scrolled": true
   },
   "outputs": [
    {
     "name": "stderr",
     "output_type": "stream",
     "text": [
      "/Users/keeeeei/.pyenv/versions/anaconda3-2.5.0/lib/python3.5/site-packages/lightgbm/basic.py:1036: UserWarning: Using categorical_feature in Dataset.\n",
      "  warnings.warn('Using categorical_feature in Dataset.')\n"
     ]
    }
   ],
   "source": [
    "clf = lgb.train(all_params,\n",
    "                        train_data,\n",
    "                        100,\n",
    "                            )"
   ]
  },
  {
   "cell_type": "markdown",
   "metadata": {},
   "source": [
    "- model"
   ]
  },
  {
   "cell_type": "code",
   "execution_count": null,
   "metadata": {
    "collapsed": true
   },
   "outputs": [],
   "source": [
    "model.save_model(modpath + modfn)\n",
    "model = lgb.Booster(model_file=modpath + modfn)"
   ]
  }
 ],
 "metadata": {
  "kernelspec": {
   "display_name": "Python 3",
   "language": "python",
   "name": "python3"
  },
  "language_info": {
   "codemirror_mode": {
    "name": "ipython",
    "version": 3
   },
   "file_extension": ".py",
   "mimetype": "text/x-python",
   "name": "python",
   "nbconvert_exporter": "python",
   "pygments_lexer": "ipython3",
   "version": "3.5.1"
  }
 },
 "nbformat": 4,
 "nbformat_minor": 2
}
